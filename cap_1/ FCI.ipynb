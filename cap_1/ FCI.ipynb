{
 "cells": [
  {
   "cell_type": "markdown",
   "id": "6bf21e6e-2413-4c89-b63a-17d3f168461c",
   "metadata": {},
   "source": [
    "# El FCI"
   ]
  },
  {
   "cell_type": "markdown",
   "id": "ca7ca863-1f19-433c-bffb-f8681f8843b0",
   "metadata": {},
   "source": [
    "Producción Consumo Distribución"
   ]
  }
 ],
 "metadata": {
  "kernelspec": {
   "display_name": "Python 3",
   "language": "python",
   "name": "python3"
  },
  "language_info": {
   "codemirror_mode": {
    "name": "ipython",
    "version": 3
   },
   "file_extension": ".py",
   "mimetype": "text/x-python",
   "name": "python",
   "nbconvert_exporter": "python",
   "pygments_lexer": "ipython3",
   "version": "3.9.2"
  }
 },
 "nbformat": 4,
 "nbformat_minor": 5
}
